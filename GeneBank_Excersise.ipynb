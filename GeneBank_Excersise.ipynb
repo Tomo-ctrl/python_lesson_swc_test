{
 "cells": [
  {
   "cell_type": "code",
   "execution_count": 1,
   "metadata": {},
   "outputs": [],
   "source": [
    "import urllib.request\n",
    "import pandas as pd"
   ]
  },
  {
   "cell_type": "code",
   "execution_count": 2,
   "metadata": {},
   "outputs": [],
   "source": [
    "gff_files_and_source_urls = {\"S_aureus.gff.gz\" : \"ftp://ftp.ncbi.nlm.nih.gov/genomes/all/GCF/000/013/425/GCF_000013425.1_ASM1342v1/GCF_000013425.1_ASM1342v1_genomic.gff.gz\",\n",
    "                           \"S_typhimurium.gff.gz\" : \"ftp://ftp.ncbi.nlm.nih.gov/genomes/all/GCF/000/195/995/GCF_000195995.1_ASM19599v1/GCF_000195995.1_ASM19599v1_genomic.gff.gz\",\n",
    "                           \"E_coli.gff.gz\":\"ftp://ftp.ncbi.nlm.nih.gov/genomes/refseq/bacteria/Escherichia_coli/reference/GCF_000005845.2_ASM584v2/GCF_000005845.2_ASM584v2_genomic.gff.gz\"}"
   ]
  },
  {
   "cell_type": "code",
   "execution_count": 3,
   "metadata": {},
   "outputs": [
    {
     "name": "stdout",
     "output_type": "stream",
     "text": [
      "S_aureus.gff.gz ftp://ftp.ncbi.nlm.nih.gov/genomes/all/GCF/000/013/425/GCF_000013425.1_ASM1342v1/GCF_000013425.1_ASM1342v1_genomic.gff.gz\n",
      "S_typhimurium.gff.gz ftp://ftp.ncbi.nlm.nih.gov/genomes/all/GCF/000/195/995/GCF_000195995.1_ASM19599v1/GCF_000195995.1_ASM19599v1_genomic.gff.gz\n",
      "E_coli.gff.gz ftp://ftp.ncbi.nlm.nih.gov/genomes/refseq/bacteria/Escherichia_coli/reference/GCF_000005845.2_ASM584v2/GCF_000005845.2_ASM584v2_genomic.gff.gz\n"
     ]
    }
   ],
   "source": [
    "for file_name, url in gff_files_and_source_urls.items():\n",
    "    print(file_name, url)"
   ]
  },
  {
   "cell_type": "code",
   "execution_count": 4,
   "metadata": {},
   "outputs": [],
   "source": [
    "# plt.show is needed to display more than one plot\n",
    "import matplotlib.pyplot as plt\n",
    "plt.show()"
   ]
  },
  {
   "cell_type": "code",
   "execution_count": 28,
   "metadata": {},
   "outputs": [
    {
     "name": "stdout",
     "output_type": "stream",
     "text": [
      "S_aureus.gff.gz ftp://ftp.ncbi.nlm.nih.gov/genomes/all/GCF/000/013/425/GCF_000013425.1_ASM1342v1/GCF_000013425.1_ASM1342v1_genomic.gff.gz\n",
      "            seqid  source    type    start      end score strand phase  \\\n",
      "0     NC_007795.1  RefSeq  region        1  2821361     .      +     .   \n",
      "1     NC_007795.1  RefSeq    gene      517     1878     .      +     .   \n",
      "2     NC_007795.1  RefSeq     CDS      517     1878     .      +     0   \n",
      "3     NC_007795.1  RefSeq    gene     2156     3289     .      +     .   \n",
      "4     NC_007795.1  RefSeq     CDS     2156     3289     .      +     0   \n",
      "...           ...     ...     ...      ...      ...   ...    ...   ...   \n",
      "5789  NC_007795.1  RefSeq     CDS  2819018  2820397     .      -     0   \n",
      "5790  NC_007795.1  RefSeq    gene  2820536  2820889     .      -     .   \n",
      "5791  NC_007795.1  RefSeq     CDS  2820536  2820889     .      -     0   \n",
      "5792  NC_007795.1  RefSeq    gene  2821010  2821147     .      -     .   \n",
      "5793  NC_007795.1  RefSeq     CDS  2821010  2821147     .      -     0   \n",
      "\n",
      "                                             attributes  \n",
      "0     ID=id0;Dbxref=taxon:93061;Is_circular=true;Nam...  \n",
      "1     ID=gene0;Dbxref=GeneID:3919798;Name=dnaA;gbkey...  \n",
      "2     ID=cds0;Parent=gene0;Dbxref=Genbank:YP_498609....  \n",
      "3     ID=gene1;Dbxref=GeneID:3919799;Name=SAOUHSC_00...  \n",
      "4     ID=cds1;Parent=gene1;Dbxref=Genbank:YP_498610....  \n",
      "...                                                 ...  \n",
      "5789  ID=cds2764;Parent=gene2869;Dbxref=Genbank:YP_5...  \n",
      "5790  ID=gene2870;Dbxref=GeneID:3921317;Name=rnpA;gb...  \n",
      "5791  ID=cds2765;Parent=gene2870;Dbxref=Genbank:YP_5...  \n",
      "5792  ID=gene2871;Dbxref=GeneID:3921318;Name=rpmH;gb...  \n",
      "5793  ID=cds2766;Parent=gene2871;Dbxref=Genbank:YP_5...  \n",
      "\n",
      "[5794 rows x 9 columns]\n",
      "S_typhimurium.gff.gz ftp://ftp.ncbi.nlm.nih.gov/genomes/all/GCF/000/195/995/GCF_000195995.1_ASM19599v1/GCF_000195995.1_ASM19599v1_genomic.gff.gz\n",
      "             seqid  source             type   start      end score strand  \\\n",
      "0      NC_003198.1  RefSeq           region       1  4809037     .      +   \n",
      "1      NC_003198.1  RefSeq             gene     190      255     .      +   \n",
      "2      NC_003198.1  RefSeq              CDS     190      255     .      +   \n",
      "3      NC_003198.1  RefSeq             gene     337     2799     .      +   \n",
      "4      NC_003198.1  RefSeq              CDS     337     2799     .      +   \n",
      "...            ...     ...              ...     ...      ...   ...    ...   \n",
      "11942  NC_003385.1  RefSeq  inverted_repeat  106230   106250     .      -   \n",
      "11943  NC_003385.1  RefSeq  inverted_repeat  106270   106290     .      -   \n",
      "11944  NC_003385.1  RefSeq  inverted_repeat  106317   106337     .      -   \n",
      "11945  NC_003385.1  RefSeq             gene  106342   106545     .      -   \n",
      "11946  NC_003385.1  RefSeq              CDS  106342   106545     .      -   \n",
      "\n",
      "      phase                                         attributes  \n",
      "0         .  ID=NC_003198.1:1..4809037;Dbxref=taxon:220341;...  \n",
      "1         .  ID=gene-STY0001;Dbxref=GeneID:1246512;Name=STY...  \n",
      "2         0  ID=cds-NP_454611.1;Parent=gene-STY0001;Dbxref=...  \n",
      "3         .  ID=gene-STY0002;Dbxref=GeneID:1246513;Name=STY...  \n",
      "4         0  ID=cds-NP_454612.1;Parent=gene-STY0002;Dbxref=...  \n",
      "...     ...                                                ...  \n",
      "11942     .  ID=id-NC_003385.1:106230..106250;Note=iteron 2...  \n",
      "11943     .  ID=id-NC_003385.1:106270..106290;Note=iteron 2...  \n",
      "11944     .  ID=id-NC_003385.1:106317..106337;Note=iteron 2...  \n",
      "11945     .  ID=gene-HCM2.0001c;Dbxref=GeneID:1251389;Name=...  \n",
      "11946     0  ID=cds-NP_569473.2;Parent=gene-HCM2.0001c;Dbxr...  \n",
      "\n",
      "[11947 rows x 9 columns]\n",
      "E_coli.gff.gz ftp://ftp.ncbi.nlm.nih.gov/genomes/refseq/bacteria/Escherichia_coli/reference/GCF_000005845.2_ASM584v2/GCF_000005845.2_ASM584v2_genomic.gff.gz\n",
      "             seqid  source    type    start      end score strand phase  \\\n",
      "0      NC_000913.3  RefSeq  region        1  4641652     .      +     .   \n",
      "1      NC_000913.3  RefSeq    gene      190      255     .      +     .   \n",
      "2      NC_000913.3  RefSeq     CDS      190      255     .      +     0   \n",
      "3      NC_000913.3  RefSeq    gene      337     2799     .      +     .   \n",
      "4      NC_000913.3  RefSeq     CDS      337     2799     .      +     0   \n",
      "...            ...     ...     ...      ...      ...   ...    ...   ...   \n",
      "10116  NC_000913.3  RefSeq     CDS  4639590  4640306     .      -     0   \n",
      "10117  NC_000913.3  RefSeq    gene  4640402  4640542     .      +     .   \n",
      "10118  NC_000913.3  RefSeq     CDS  4640402  4640542     .      +     0   \n",
      "10119  NC_000913.3  RefSeq    gene  4640942  4641628     .      +     .   \n",
      "10120  NC_000913.3  RefSeq     CDS  4640942  4641628     .      +     0   \n",
      "\n",
      "                                              attributes  \n",
      "0      ID=NC_000913.3:1..4641652;Dbxref=taxon:511145;...  \n",
      "1      ID=gene-b0001;Dbxref=ASAP:ABE-0000006,ECOCYC:E...  \n",
      "2      ID=cds-NP_414542.1;Parent=gene-b0001;Dbxref=Un...  \n",
      "3      ID=gene-b0002;Dbxref=ASAP:ABE-0000008,ECOCYC:E...  \n",
      "4      ID=cds-NP_414543.1;Parent=gene-b0002;Dbxref=Un...  \n",
      "...                                                  ...  \n",
      "10116  ID=cds-NP_418818.1;Parent=gene-b4401;Dbxref=Un...  \n",
      "10117  ID=gene-b4402;Dbxref=ASAP:ABE-0014437,ECOCYC:G...  \n",
      "10118  ID=cds-NP_418819.1;Parent=gene-b4402;Dbxref=Un...  \n",
      "10119  ID=gene-b4403;Dbxref=ASAP:ABE-0014442,ECOCYC:E...  \n",
      "10120  ID=cds-NP_418820.1;Parent=gene-b4403;Dbxref=Un...  \n",
      "\n",
      "[10121 rows x 9 columns]\n"
     ]
    }
   ],
   "source": [
    "for file_name, url in gff_files_and_source_urls.items():\n",
    "    print(file_name, url)\n",
    "    urllib.request.urlretrieve(url, file_name)\n",
    "    gff_data = pd.read_csv(file_name, sep=\"\\t\", comment=\"#\", names=[\"seqid\",\n",
    "                                                              \"source\",\n",
    "                                                              \"type\",\n",
    "                                                              \"start\",\n",
    "                                                              \"end\",\n",
    "                                                              \"score\",\n",
    "                                                              \"strand\",\n",
    "                                                              \"phase\",\n",
    "                                                              \"attributes\"])\n",
    "    print(gff_data)"
   ]
  },
  {
   "cell_type": "code",
   "execution_count": 39,
   "metadata": {},
   "outputs": [
    {
     "name": "stdout",
     "output_type": "stream",
     "text": [
      "gene                      4419\n",
      "CDS                       4379\n",
      "repeat_region              697\n",
      "exon                       180\n",
      "pseudogene                 166\n",
      "tRNA                        86\n",
      "ncRNA                       72\n",
      "mobile_genetic_element      49\n",
      "sequence_feature            48\n",
      "rRNA                        22\n",
      "region                       1\n",
      "origin_of_replication        1\n",
      "recombination_feature        1\n",
      "Name: type, dtype: int64\n",
      "gene                      4419\n",
      "CDS                       4379\n",
      "repeat_region              697\n",
      "exon                       180\n",
      "pseudogene                 166\n",
      "tRNA                        86\n",
      "ncRNA                       72\n",
      "mobile_genetic_element      49\n",
      "sequence_feature            48\n",
      "rRNA                        22\n",
      "region                       1\n",
      "origin_of_replication        1\n",
      "recombination_feature        1\n",
      "Name: type, dtype: int64\n",
      "gene                      4419\n",
      "CDS                       4379\n",
      "repeat_region              697\n",
      "exon                       180\n",
      "pseudogene                 166\n",
      "tRNA                        86\n",
      "ncRNA                       72\n",
      "mobile_genetic_element      49\n",
      "sequence_feature            48\n",
      "rRNA                        22\n",
      "region                       1\n",
      "origin_of_replication        1\n",
      "recombination_feature        1\n",
      "Name: type, dtype: int64\n"
     ]
    }
   ],
   "source": [
    "for file_name, url in gff_files_and_source_urls.items():\n",
    "    urllib.request.urlretrieve(url, file_name)\n",
    "    print(gff_data[\"type\"].value_counts())"
   ]
  },
  {
   "cell_type": "code",
   "execution_count": 42,
   "metadata": {},
   "outputs": [
    {
     "data": {
      "image/png": "[encoded data removed]",
      "text/plain": [
       "<Figure size 432x288 with 1 Axes>"
      ]
     },
     "metadata": {
      "needs_background": "light"
     },
     "output_type": "display_data"
    },
    {
     "data": {
      "image/png": "[encoded data removed]",
      "text/plain": [
       "<Figure size 432x288 with 1 Axes>"
      ]
     },
     "metadata": {
      "needs_background": "light"
     },
     "output_type": "display_data"
    },
    {
     "data": {
      "image/png": "[encoded data removed]",
      "text/plain": [
       "<Figure size 432x288 with 1 Axes>"
      ]
     },
     "metadata": {
      "needs_background": "light"
     },
     "output_type": "display_data"
    }
   ],
   "source": [
    "%matplotlib inline\n",
    "import urllib.request\n",
    "import pandas as pd\n",
    "import matplotlib.pyplot as plt\n",
    "for gff_file, source_url in gff_files_and_source_urls.items():\n",
    "    urllib.request.urlretrieve(source_url, gff_file)\n",
    "    gff_data = pd.read_csv(file_name, sep=\"\\t\", comment=\"#\", names=[\"seqid\",\n",
    "                                                              \"source\",\n",
    "                                                              \"type\",\n",
    "                                                              \"start\",\n",
    "                                                              \"end\",\n",
    "                                                              \"score\",\n",
    "                                                              \"strand\",\n",
    "                                                              \"phase\",\n",
    "                                                              \"attributes\"])\n",
    "    gff_data[\"length\"] = gff_data[\"end\"] - gff_data[\"start\"] + 1\n",
    "    gene_data = gff_data[gff_data[\"type\"] == \"gene\"]\n",
    "    gene_data[\"length\"].hist(bins=30, color=\"black\")\n",
    "    plt.show()"
   ]
  },
  {
   "cell_type": "code",
   "execution_count": null,
   "metadata": {},
   "outputs": [],
   "source": []
  }
 ],
 "metadata": {
  "kernelspec": {
   "display_name": "Python 3",
   "language": "python",
   "name": "python3"
  },
  "language_info": {
   "codemirror_mode": {
    "name": "ipython",
    "version": 3
   },
   "file_extension": ".py",
   "mimetype": "text/x-python",
   "name": "python",
   "nbconvert_exporter": "python",
   "pygments_lexer": "ipython3",
   "version": "3.7.4"
  }
 },
 "nbformat": 4,
 "nbformat_minor": 2
}
